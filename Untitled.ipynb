{
 "cells": [
  {
   "cell_type": "markdown",
   "metadata": {},
   "source": [
    "# Web Scraping Workshop 1 - Web API Requests\n",
    "Prepared by: Nickolas K. Freeman, Ph.D.\n",
    "\n",
    "In this notebook, we will see how we can use Python to make http requests. In particular, we will be using the python `requests` library to retrieve data from application programming interfaces (APIs) available online. Additional information on http requests and the `requests` library can be found in the powerpoint slides included in the repository ('WS1_Slides') and in the article available https://realpython.com/python-requests/.\n",
    "\n",
    "The following code block imports the python `requests` library."
   ]
  },
  {
   "cell_type": "code",
   "execution_count": 1,
   "metadata": {},
   "outputs": [],
   "source": [
    "import requests"
   ]
  },
  {
   "cell_type": "markdown",
   "metadata": {},
   "source": [
    "To get a better understanding of http requests, we will first target the website `http.org`. This webiste allows developers to test their requests before deploying applications. The following code block: 1) creates a variable named `target_url` that points an area of `httpbin.org` that allows users to test **GET** requests, 2) makes a **GET** request using the `get` method available in the python requests package and stores the response in a variable named `r`, and 3) prints the content of the `r` object in *JavaScript Object Notation* format (json). "
   ]
  },
  {
   "cell_type": "code",
   "execution_count": 2,
   "metadata": {},
   "outputs": [
    {
     "name": "stdout",
     "output_type": "stream",
     "text": [
      "{'args': {}, 'headers': {'Accept': '*/*', 'Accept-Encoding': 'gzip, deflate', 'Host': 'httpbin.org', 'User-Agent': 'python-requests/2.22.0', 'X-Amzn-Trace-Id': 'Root=1-5e5aa644-b9d8afe2a885dca241cfcaae'}, 'origin': '75.137.131.118', 'url': 'http://httpbin.org/get'}\n"
     ]
    }
   ],
   "source": [
    "# 1) specify target_url \n",
    "target_url = 'http://httpbin.org/get'\n",
    "\n",
    "# 2) make request\n",
    "r = requests.get(target_url)\n",
    "\n",
    "# 3) print response as json\n",
    "print(r.json())"
   ]
  },
  {
   "cell_type": "markdown",
   "metadata": {},
   "source": [
    "Note that the json representation returned is a python dictionary. Inspecting the dictionary, we can see that there are keys for `args`, `headers`, `origin`, and `url`. The values in these keys give us an idea of some of the information that we transmit when making http requests. Moreover, we can control this information to some degree. To demonstrate this, we will look into how we can modify the headers that we send with a request. Specifically, we will modify our `User-Agent` and add a referer. Information on valid http request headers can be found at https://developer.mozilla.org/en-US/docs/Web/HTTP/Headers. \n",
    "\n",
    "Before we demonstrate how to modify the user agent and referer headers, let's understand the role that they play in an http request:\n",
    "- `User-Agent`: Contains a characteristic string that allows the network protocol peers to **identify the application type, operating system, software vendor or software version of the requesting software user agent**. \n",
    "- `Referer`: The address of the previous web page from which a link to the currently requested page was followed.\n",
    "\n",
    "Note that a website that we are making a request to can use the two headers we are considering to determine if we are a real user or a computer program. Specifically, as we can see in the response we received earlier, the default User-Agent used by the requests package show that we are making the request using the package. A website wishing to deter programmatic access can easily detect and deny such requests. Also, a request may seem more realistic if we are referred from a search engine such as Google. To modify these headers, we need to pass a dictionary of headers when we make a request. The following code demonstrates how this can be done. Specifically, we:\n",
    "\n",
    "1. Define a variable named `my_user_agent`, which stores a string with a realistic value, \n",
    "2. Define a dictionary object named `headers`,\n",
    "3. Add the defined user-agent variable, \n",
    "4. Specify a `Referer` header that suggests we were referred, i.e., made the request from, the Google search engine.\n",
    "5. Make the same request as before with our new headers, and\n",
    "6. Print the response as json."
   ]
  },
  {
   "cell_type": "code",
   "execution_count": 3,
   "metadata": {},
   "outputs": [
    {
     "name": "stdout",
     "output_type": "stream",
     "text": [
      "{'args': {}, 'headers': {'Accept': '*/*', 'Accept-Encoding': 'gzip, deflate', 'Host': 'httpbin.org', 'Referer': 'https://www.google.com', 'User-Agent': 'Mozilla/5.0 (Windows NT 10.0; WOW64) AppleWebKit/537.36 (KHTML, like Gecko) Chrome/79.0.3945.130 Safari/537.36', 'X-Amzn-Trace-Id': 'Root=1-5e5aa644-070447a8fe2d171c54bbeef2'}, 'origin': '75.137.131.118', 'url': 'http://httpbin.org/get'}\n"
     ]
    }
   ],
   "source": [
    "my_user_agent = 'Mozilla/5.0 (Windows NT 10.0; WOW64) AppleWebKit/537.36 (KHTML, like Gecko) Chrome/79.0.3945.130 Safari/537.36'\n",
    "\n",
    "my_headers = {'User-Agent': my_user_agent, \n",
    "             'Referer': 'https://www.google.com'}\n",
    "\n",
    "r = requests.get(target_url, headers = my_headers)\n",
    "\n",
    "print(r.json())"
   ]
  },
  {
   "cell_type": "markdown",
   "metadata": {},
   "source": [
    "The printed output shows that our headers were correctly modified. Moreover, our request will now look more realistic to a target website. We will now look at how to pass parameters with a request. This is very common when working with web APIs, where the parameters are used to filter the data returned by the request and, oftentimes, to authenticate users. Similar to how we specified headers, we can specify parameters by passing a dictionary of parameters when we make the request. The following code block demonstrates this approach."
   ]
  },
  {
   "cell_type": "code",
   "execution_count": 4,
   "metadata": {},
   "outputs": [
    {
     "name": "stdout",
     "output_type": "stream",
     "text": [
      "{'args': {'param1': 'my_param_value'}, 'headers': {'Accept': '*/*', 'Accept-Encoding': 'gzip, deflate', 'Host': 'httpbin.org', 'Referer': 'https://www.google.com', 'User-Agent': 'Mozilla/5.0 (Windows NT 10.0; WOW64) AppleWebKit/537.36 (KHTML, like Gecko) Chrome/79.0.3945.130 Safari/537.36', 'X-Amzn-Trace-Id': 'Root=1-5e5aa644-499a99f21ddd581a1fa3f1fe'}, 'origin': '75.137.131.118', 'url': 'http://httpbin.org/get?param1=my_param_value'}\n"
     ]
    }
   ],
   "source": [
    "# Define a test parameter, param1\n",
    "my_params = {'param1': 'my_param_value'}\n",
    "\n",
    "# Make the request, passing headers and parameters\n",
    "r = requests.get(target_url, \n",
    "                 headers = my_headers, \n",
    "                 params = my_params)\n",
    "\n",
    "# Print the response as json\n",
    "print(r.json())"
   ]
  },
  {
   "cell_type": "markdown",
   "metadata": {},
   "source": [
    "Notice that the response output includes our parameters as `args`. Also notice that the `url` value has been updated. In particular, the string `?param1=my_param_value` was appended to the end of our `target_url`."
   ]
  },
  {
   "cell_type": "markdown",
   "metadata": {},
   "source": [
    "# Requesting Bike-Sharing Data From http://api.citybik.es\n",
    "\n",
    "We will now use what we have learned so far to harvest bike-sharing data using the open (at the time of writing 2/29/2020) web API available at http://api.citybik.es. This API allows users to determine information on bike-sharing networks located across the world and request information regarding the status of networks. We will use the `pandas` package to store the data. The following code block imports `pandas`."
   ]
  },
  {
   "cell_type": "code",
   "execution_count": 5,
   "metadata": {},
   "outputs": [],
   "source": [
    "import pandas as pd"
   ]
  },
  {
   "cell_type": "markdown",
   "metadata": {},
   "source": [
    "Reading the documentation available at http://api.citybik.es/v2/, we can see that the API has an endpoint for obtaining data regarding bike-sharing networks, 'http://api.citybik.es/v2/networks'. The following code block makes a request to this endpoint, stores the response as json, and prints the keys of the json object."
   ]
  },
  {
   "cell_type": "code",
   "execution_count": 6,
   "metadata": {},
   "outputs": [
    {
     "name": "stdout",
     "output_type": "stream",
     "text": [
      "dict_keys(['networks'])\n"
     ]
    }
   ],
   "source": [
    "# Specify endpoint\n",
    "endpoint = 'http://api.citybik.es/v2/networks'\n",
    "\n",
    "# Make the request\n",
    "r = requests.get(endpoint)\n",
    "\n",
    "# Store the response as json\n",
    "response = r.json()\n",
    "\n",
    "# Print the keys of the json response\n",
    "print(response.keys())"
   ]
  },
  {
   "cell_type": "markdown",
   "metadata": {},
   "source": [
    "The following code block shows that the *value* associated with the `networks` key is a python list."
   ]
  },
  {
   "cell_type": "code",
   "execution_count": 7,
   "metadata": {},
   "outputs": [
    {
     "data": {
      "text/plain": [
       "list"
      ]
     },
     "execution_count": 7,
     "metadata": {},
     "output_type": "execute_result"
    }
   ],
   "source": [
    "type(response['networks'])"
   ]
  },
  {
   "cell_type": "markdown",
   "metadata": {},
   "source": [
    "The following code block prints the first three values of this list so that we can see the format of each item."
   ]
  },
  {
   "cell_type": "code",
   "execution_count": 8,
   "metadata": {},
   "outputs": [
    {
     "data": {
      "text/plain": [
       "[{'company': ['ЗАО «СитиБайк»'],\n",
       "  'href': '/v2/networks/velobike-moscow',\n",
       "  'id': 'velobike-moscow',\n",
       "  'location': {'city': 'Moscow',\n",
       "   'country': 'RU',\n",
       "   'latitude': 55.75,\n",
       "   'longitude': 37.616667},\n",
       "  'name': 'Velobike'},\n",
       " {'company': ['Gobike A/S'],\n",
       "  'href': '/v2/networks/bycyklen',\n",
       "  'id': 'bycyklen',\n",
       "  'location': {'city': 'Copenhagen',\n",
       "   'country': 'DK',\n",
       "   'latitude': 55.673582,\n",
       "   'longitude': 12.564984},\n",
       "  'name': 'Bycyklen'},\n",
       " {'company': ['Gobike A/S'],\n",
       "  'href': '/v2/networks/nu-connect',\n",
       "  'id': 'nu-connect',\n",
       "  'location': {'city': 'Utrecht',\n",
       "   'country': 'NL',\n",
       "   'latitude': 52.117,\n",
       "   'longitude': 5.067},\n",
       "  'name': 'Nu-Connect'}]"
      ]
     },
     "execution_count": 8,
     "metadata": {},
     "output_type": "execute_result"
    }
   ],
   "source": [
    "response['networks'][:3]"
   ]
  },
  {
   "cell_type": "markdown",
   "metadata": {},
   "source": [
    "As we can see, each item in the list is a python dictionary, that contains information regarding a different bike-sharing network. In the following code block, we parse these dictionaries to create a pandas' `DataFrame` object that contains information for all networks in the United States.\n",
    "\n",
    "**Note: This parsing method is specific to this API. Each API returns content in a different format. Thus, you will need to modfiy your approach to parsing the response accordingly.**"
   ]
  },
  {
   "cell_type": "code",
   "execution_count": 9,
   "metadata": {},
   "outputs": [
    {
     "data": {
      "text/html": [
       "<div>\n",
       "<style scoped>\n",
       "    .dataframe tbody tr th:only-of-type {\n",
       "        vertical-align: middle;\n",
       "    }\n",
       "\n",
       "    .dataframe tbody tr th {\n",
       "        vertical-align: top;\n",
       "    }\n",
       "\n",
       "    .dataframe thead th {\n",
       "        text-align: right;\n",
       "    }\n",
       "</style>\n",
       "<table border=\"1\" class=\"dataframe\">\n",
       "  <thead>\n",
       "    <tr style=\"text-align: right;\">\n",
       "      <th></th>\n",
       "      <th>Company</th>\n",
       "      <th>City</th>\n",
       "      <th>Endpoint</th>\n",
       "    </tr>\n",
       "  </thead>\n",
       "  <tbody>\n",
       "    <tr>\n",
       "      <td>0</td>\n",
       "      <td>we-cycle</td>\n",
       "      <td>Aspen, CO</td>\n",
       "      <td>/v2/networks/we-cycle</td>\n",
       "    </tr>\n",
       "    <tr>\n",
       "      <td>1</td>\n",
       "      <td>arborbike</td>\n",
       "      <td>Ann Arbor, MI</td>\n",
       "      <td>/v2/networks/arborbike</td>\n",
       "    </tr>\n",
       "    <tr>\n",
       "      <td>2</td>\n",
       "      <td>austin</td>\n",
       "      <td>Austin, TX</td>\n",
       "      <td>/v2/networks/austin</td>\n",
       "    </tr>\n",
       "    <tr>\n",
       "      <td>3</td>\n",
       "      <td>bike-chattanooga</td>\n",
       "      <td>Chattanooga, TN</td>\n",
       "      <td>/v2/networks/bike-chattanooga</td>\n",
       "    </tr>\n",
       "    <tr>\n",
       "      <td>4</td>\n",
       "      <td>biketown</td>\n",
       "      <td>Portland, OR</td>\n",
       "      <td>/v2/networks/biketown</td>\n",
       "    </tr>\n",
       "  </tbody>\n",
       "</table>\n",
       "</div>"
      ],
      "text/plain": [
       "            Company             City                       Endpoint\n",
       "0          we-cycle        Aspen, CO          /v2/networks/we-cycle\n",
       "1         arborbike    Ann Arbor, MI         /v2/networks/arborbike\n",
       "2            austin       Austin, TX            /v2/networks/austin\n",
       "3  bike-chattanooga  Chattanooga, TN  /v2/networks/bike-chattanooga\n",
       "4          biketown     Portland, OR          /v2/networks/biketown"
      ]
     },
     "execution_count": 9,
     "metadata": {},
     "output_type": "execute_result"
    }
   ],
   "source": [
    "# Initialize an empty python list\n",
    "us_list = []\n",
    "\n",
    "# For each dictionary in the list of dictionaries\n",
    "# include in the networks key of the response\n",
    "for network in response['networks']:\n",
    "    \n",
    "    # If the network's location is US\n",
    "    if network['location']['country'] == 'US':\n",
    "        \n",
    "        # Append a list with the network id, city, and endpoint (href)\n",
    "        # to the us_list object\n",
    "        us_list.append([network['id'], network['location']['city'], network['href']])\n",
    "        \n",
    "# Convert the us_list object to a DataFrame and store the DataFrame\n",
    "# in a variable named us_data\n",
    "us_data = pd.DataFrame(us_list, columns = ['Company', 'City', 'Endpoint'])\n",
    "\n",
    "# Print the first five rows\n",
    "us_data.head()"
   ]
  },
  {
   "cell_type": "markdown",
   "metadata": {},
   "source": [
    "Although we will not go through making requests to all of the endpoints stored in the `us_data` DataFrame, I will demonstrate how to access data for one of the endpoints. In particular, the following code block shows how we can use the endpoint specified in the first row of the `us_data` object to request data for the first network."
   ]
  },
  {
   "cell_type": "code",
   "execution_count": 10,
   "metadata": {},
   "outputs": [],
   "source": [
    "# Get endpoint stored in first row\n",
    "current_endpoint = us_data.loc[0, 'Endpoint']\n",
    "\n",
    "# Specify base url\n",
    "base_url = 'http://api.citybik.es'\n",
    "\n",
    "# Concatenate current endpoint and base url \n",
    "# to get endpoint for request\n",
    "full_url = base_url + current_endpoint\n",
    "\n",
    "# Make request\n",
    "r = requests.get(full_url)\n",
    "\n",
    "# Store the repsonse as json\n",
    "response = r.json()"
   ]
  },
  {
   "cell_type": "markdown",
   "metadata": {},
   "source": [
    "The response returned for the specific network differs from that returned for all networks. The following code block shows tha it contains information on specific details regarding the locations associated with the network and the status of the location."
   ]
  },
  {
   "cell_type": "code",
   "execution_count": 11,
   "metadata": {},
   "outputs": [
    {
     "data": {
      "text/plain": [
       "[{'empty_slots': 2,\n",
       "  'extra': {'address': 'Basalt',\n",
       "   'last_updated': 1572297881,\n",
       "   'renting': 1,\n",
       "   'returning': 1,\n",
       "   'uid': '1482'},\n",
       "  'free_bikes': 3,\n",
       "  'id': 'de99fa376a6ff38db656affe33d40e52',\n",
       "  'latitude': 39.380066,\n",
       "  'longitude': -107.081968,\n",
       "  'name': 'Evans Rd',\n",
       "  'timestamp': '2020-02-29T17:54:05.234000Z'},\n",
       " {'empty_slots': 8,\n",
       "  'extra': {'address': 'Aspen',\n",
       "   'last_updated': 1572470181,\n",
       "   'renting': 0,\n",
       "   'returning': 1,\n",
       "   'uid': '1480'},\n",
       "  'free_bikes': 0,\n",
       "  'id': 'c7fddca9c7f33987a59095d9fa1dba04',\n",
       "  'latitude': 39.1916,\n",
       "  'longitude': -106.823,\n",
       "  'name': 'Hotel Aspen',\n",
       "  'timestamp': '2020-02-29T17:54:05.255000Z'},\n",
       " {'empty_slots': 6,\n",
       "  'extra': {'address': 'Basalt',\n",
       "   'last_updated': 1572384718,\n",
       "   'renting': 0,\n",
       "   'returning': 1,\n",
       "   'uid': '1485'},\n",
       "  'free_bikes': 0,\n",
       "  'id': 'edd6bdd575f305389a942010c19b3fd0',\n",
       "  'latitude': 39.359289,\n",
       "  'longitude': -107.023232,\n",
       "  'name': 'Roaring Fork Club Employee Housing',\n",
       "  'timestamp': '2020-02-29T17:54:05.256000Z'}]"
      ]
     },
     "execution_count": 11,
     "metadata": {},
     "output_type": "execute_result"
    }
   ],
   "source": [
    "response['network']['stations'][:3]"
   ]
  },
  {
   "cell_type": "markdown",
   "metadata": {},
   "source": [
    "This concludes this introduction to making web API requests using python. This was a very breif introduction and there are many other things to learn. However, there is a lot of good information available online."
   ]
  }
 ],
 "metadata": {
  "kernelspec": {
   "display_name": "Python 3",
   "language": "python",
   "name": "python3"
  },
  "language_info": {
   "codemirror_mode": {
    "name": "ipython",
    "version": 3
   },
   "file_extension": ".py",
   "mimetype": "text/x-python",
   "name": "python",
   "nbconvert_exporter": "python",
   "pygments_lexer": "ipython3",
   "version": "3.7.4"
  }
 },
 "nbformat": 4,
 "nbformat_minor": 2
}
